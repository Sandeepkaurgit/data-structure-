{
 "cells": [
  {
   "cell_type": "code",
   "execution_count": null,
   "id": "b548847d-e646-482b-ac73-8b341c06e99b",
   "metadata": {},
   "outputs": [],
   "source": [
    "# 1) what are data structures,and why are they important?\n",
    "# ans : it provides organized ways to store,manage data within program . it is like a container which contains data,it is important beacuse it will help you avoid errors andbugs"
   ]
  },
  {
   "cell_type": "code",
   "execution_count": 10,
   "id": "2c7b6eb3-c207-412b-b8db-7c11ff33c298",
   "metadata": {},
   "outputs": [
    {
     "ename": "SyntaxError",
     "evalue": "cannot assign to function call here. Maybe you meant '==' instead of '='? (132188878.py, line 12)",
     "output_type": "error",
     "traceback": [
      "  \u001b[36mCell\u001b[39m\u001b[36m \u001b[39m\u001b[32mIn[10]\u001b[39m\u001b[32m, line 12\u001b[39m\n\u001b[31m    \u001b[39m\u001b[31mtuple (0) = (\"sandeep\")\u001b[39m\n    ^\n\u001b[31mSyntaxError\u001b[39m\u001b[31m:\u001b[39m cannot assign to function call here. Maybe you meant '==' instead of '='?\n"
     ]
    }
   ],
   "source": [
    "# 2) explain  the difference between mutable and immutable data types with examples?\n",
    "# ans: mutable data types are that data types in which elements can changed after creation,while immutable data types are that data types in which elemensts can not be changed after creation.\n",
    "# eg \n",
    " #mutables \n",
    "list = [ \"ajay\",\"vijay\",1,2.2]\n",
    "list\n",
    "list[0] = (\"sandeep\")\n",
    "list[0]\n",
    "# immutables \n",
    "tuple = (\"ajay\",\"vijay\",1)\n",
    "tuple\n",
    "tuple (0) = (\"sandeep\")\n",
    "#here we will find error while we use tuple instead of list because it is immutable"
   ]
  },
  {
   "cell_type": "code",
   "execution_count": null,
   "id": "b6f80077",
   "metadata": {},
   "outputs": [],
   "source": [
    "# 2) explain  the difference between mutable and immutable data types with examples?\n",
    "# ans: mutable data types are that data types in which elements can changed after creation,while immutable data types are that data types in which elemensts can not be changed after creation."
   ]
  },
  {
   "cell_type": "code",
   "execution_count": null,
   "id": "540e0e84-6277-452a-a458-a63333681cbb",
   "metadata": {},
   "outputs": [],
   "source": [
    "# 3) what are main difference between lists and tuples in python?\n",
    "# ans : lists are mutable ,while tuples are immutable. syntax of lists [] ,whereas syntax of tuples {]. "
   ]
  },
  {
   "cell_type": "code",
   "execution_count": null,
   "id": "6437f999-756c-41bb-96b5-e1c2478dc653",
   "metadata": {},
   "outputs": [],
   "source": [
    "# 4) describe how dictionaries store data?\n",
    "# ans : dictionaries are ordered data structure .they are used to store data values in key: value pairs."
   ]
  },
  {
   "cell_type": "code",
   "execution_count": null,
   "id": "7a1089d0-56c1-484f-92a9-0ab678384d9c",
   "metadata": {},
   "outputs": [],
   "source": [
    "# 5) why might you use a set instead of a list in python?\n",
    "# ans : because when we use set we can \"avoid duplicity\" in program but in list we can use same name twice."
   ]
  },
  {
   "cell_type": "code",
   "execution_count": null,
   "id": "0045cd0a-c66d-4744-8877-d378ce1c2f88",
   "metadata": {},
   "outputs": [],
   "source": [
    "# 6) why we use string in python,and how is it different from list?\n",
    "# ans : strings in python are immutable while lists are mutable.strings are sequence of characters  and string textual data while lists are combinations of all data types like integer,string and float."
   ]
  },
  {
   "cell_type": "code",
   "execution_count": 12,
   "id": "c472cc22-79f0-419e-8d48-c87499ef8246",
   "metadata": {},
   "outputs": [],
   "source": [
    "# 7) how do tuples ensure data integrity in python?\n",
    "#  ans :tuples are immutable to ensure that their contents remain constant throughout their life cycle."
   ]
  },
  {
   "cell_type": "code",
   "execution_count": null,
   "id": "b81881e3-096b-4bd4-906d-66fc4dd0eec9",
   "metadata": {},
   "outputs": [],
   "source": [
    "# 8) what is hash table,and how does it relate to dictionaries in python?\n",
    "# ans : a hash table is a data structure that stores key value pairs,,where each key is unique and the position(index) for each key is determined by a hash function.this function takes the key as a input and generates a unique hash values,which is then used to calculatenthe index inthe table where  they key-value pair will be stored.dictionary are impplement using hash tables."
   ]
  },
  {
   "cell_type": "code",
   "execution_count": null,
   "id": "7b52e5eb-5477-47df-b40f-70c18d5cb476",
   "metadata": {},
   "outputs": [],
   "source": [
    "# 9) can lists contains different data types in python?\n",
    "# ans : yes,list can contain elements of different data types.list contain mixture of float,integer,string,boolean or even other listsor dictionary."
   ]
  },
  {
   "cell_type": "code",
   "execution_count": 1,
   "id": "4194d78b-6871-4e8e-9cdf-f0840d765a9e",
   "metadata": {},
   "outputs": [],
   "source": [
    "# 10)  expain why strings are immutable in python?\n",
    "# ans : strings are immutable that means they can not be changed after they are created."
   ]
  },
  {
   "cell_type": "code",
   "execution_count": null,
   "id": "f5b90e52-71e5-4cb3-8a76-f4f2148ce70a",
   "metadata": {},
   "outputs": [],
   "source": [
    "# 11) what advantages do dictionaries after over lists for certain tasks?\n",
    "# ans : lists are usefuk in group of items ,want to access using some index.the order of the items matters\n",
    "# dictionaries are useful when you have items which need accessing using some sort of key.here, you just want to associate a telephone number with each name, you do not care about order.\n"
   ]
  },
  {
   "cell_type": "code",
   "execution_count": null,
   "id": "a4dfefe4-2cc5-42a6-a2f4-3583b30148c3",
   "metadata": {},
   "outputs": [],
   "source": [
    "# 12) describe a scenerio where using a tuple would be preferable over a list ?\n",
    "# ans : use a tuple if you need an immutable collection where the elements won't change after creation.tuples are generally faster and  more menory-efficient than lists,making them better for fixed collections,especially as dictionary keys or when itaration speed is crucial."
   ]
  },
  {
   "cell_type": "code",
   "execution_count": null,
   "id": "b4c67e60-d5da-43b7-a8d1-3ccf20b0e349",
   "metadata": {},
   "outputs": [],
   "source": [
    "# 13) how do sets handle duplicate values in python?\n",
    "# ans : in python, sets are designed to store only unique value elements, when a duplicate value is attempted to be added to a set, it is aiutomatically ignored,and the set remains unchanged.this behaviour ensures that sets always maintain their property of containing only distinct elements."
   ]
  },
  {
   "cell_type": "code",
   "execution_count": null,
   "id": "a7e650d8-c4fc-448c-b147-a9fd58e1d5b0",
   "metadata": {},
   "outputs": [],
   "source": [
    "# 14) how does the 'in' keyword word differently for lists and dictionaries?\n",
    "# ans : as mentioned above,the'in' operationfor the dictionary tests on keys.the key of the dictionary is unique value as well as the set,and the execution time is about the same as for sets.on the other hand,dictionary values can be duplicated like a list."
   ]
  },
  {
   "cell_type": "code",
   "execution_count": null,
   "id": "f2f831da-bb0d-4823-96e0-45d9e3cc7b82",
   "metadata": {},
   "outputs": [],
   "source": [
    "# 15) \n",
    "# ans : I have an object say Person as below:\n",
    "\n",
    "public class Person\n",
    "{\n",
    "    public int Id {get; set:}\n",
    "    public int Age {get; set:}\n",
    "    public string Name {get; set:}\n",
    "}\n",
    "Now if I have a list of Person like\n",
    "\n",
    "List<Person> listPerson = new List<Person>();\n",
    "Person p = new Person { Id=1, Age=27, Name=\"John\" };\n",
    "listPerson.Add"
   ]
  },
  {
   "cell_type": "code",
   "execution_count": null,
   "id": "02454290-1d11-4836-b65a-ad7fa6ca15fc",
   "metadata": {},
   "outputs": [],
   "source": [
    "# 16) \n",
    "# ans :A nested dictionary in Python is a dictionary where the values are themselves dictionaries. This allows you to create a multi-layered data structure to represent complex relationships between data. Imagine a dictionary of employees, where each employee's details (name, position, etc.) are also stored as a dictionary within the main employee dictionary. \n"
   ]
  },
  {
   "cell_type": "code",
   "execution_count": null,
   "id": "8fec47d4-bab4-4cbb-86ce-7040729e3439",
   "metadata": {},
   "outputs": [],
   "source": [
    "# 17) \n",
    "#ans : The time complexity of accessing an element in a dictionary (or hash table) is O(1) (constant time) on average. This means that the time it takes to retrieve a value by its key does not depend on the size of the dictionary, and is typically very fast. \n"
   ]
  },
  {
   "cell_type": "code",
   "execution_count": null,
   "id": "64b63366-a176-48dd-92fe-8cdaee3b1281",
   "metadata": {},
   "outputs": [],
   "source": [
    "# 18) \n",
    "#ans :In programming, lists are often preferred over dictionaries when order matters, you need to store multiple values for an item, or when you're performing ordered operations like sorting. Dictionaries, on the other hand, are generally more efficient for quick lookups, storing configurations, or implementing caches. For example, if you need to maintain the order of elements in a queue or stack, lists would be more suitable. If you need to store data where the order of elements doesn't matter and you need to retrieve elements based on a key, dictionaries are a better choice. \n"
   ]
  },
  {
   "cell_type": "code",
   "execution_count": null,
   "id": "84127872-5eac-4c4b-9462-ca8ce0e61e09",
   "metadata": {},
   "outputs": [],
   "source": [
    "# 19) \n",
    "# ans : In Python, dictionaries are considered ordered starting with version 3.7, meaning the order of insertion is preserved when iterating or accessing elements. This ordering affects data retrieval by ensuring that when you retrieve elements (key-value pairs) from the dictionary, they are returned in the same sequence they were added. \n"
   ]
  },
  {
   "cell_type": "code",
   "execution_count": null,
   "id": "6a22f021-e3e2-4dfb-875f-67e10aeac2f9",
   "metadata": {},
   "outputs": [],
   "source": [
    "# 20) \n",
    "# ans : In terms of data retrieval, a dictionary excels at quickly accessing values using unique keys, while a list retrieves values based on their position (index) in a sequence. Lists require searching through elements, while dictionaries use hashing for near-instantaneous lookup, making them significantly faster for accessing data by a specific identifier. \n"
   ]
  },
  {
   "cell_type": "code",
   "execution_count": 8,
   "id": "3a542cd0-f3a4-4f2c-8637-2d89b115e565",
   "metadata": {},
   "outputs": [
    {
     "ename": "IndentationError",
     "evalue": "unexpected indent (1164214270.py, line 2)",
     "output_type": "error",
     "traceback": [
      "  \u001b[36mCell\u001b[39m\u001b[36m \u001b[39m\u001b[32mIn[8]\u001b[39m\u001b[32m, line 2\u001b[39m\n\u001b[31m    \u001b[39m\u001b[31mstr_name = \"sandeep\"\u001b[39m\n    ^\n\u001b[31mIndentationError\u001b[39m\u001b[31m:\u001b[39m unexpected indent\n"
     ]
    }
   ],
   "source": [
    "#       practical questions\n",
    "  str_name = \"sandeep\"\n",
    "  print(str_name)"
   ]
  },
  {
   "cell_type": "code",
   "execution_count": 9,
   "id": "1d4ea9b2-f81b-43ad-bb5b-cb04de924bde",
   "metadata": {},
   "outputs": [
    {
     "data": {
      "text/plain": [
       "11"
      ]
     },
     "execution_count": 9,
     "metadata": {},
     "output_type": "execute_result"
    }
   ],
   "source": [
    "# for finding length \n",
    "str = 'hello world'\n",
    "len(str)"
   ]
  },
  {
   "cell_type": "code",
   "execution_count": 10,
   "id": "f22f9719-7427-4f6a-bb97-7d5d0a74da13",
   "metadata": {},
   "outputs": [
    {
     "name": "stdout",
     "output_type": "stream",
     "text": [
      "Hello\n"
     ]
    }
   ],
   "source": [
    "# for slicing letters\n",
    "s = \"Hello, Python!\"\n",
    "\n",
    "print(s[0:5])"
   ]
  },
  {
   "cell_type": "code",
   "execution_count": 11,
   "id": "b5acadfb-f7a7-4a83-9921-ced7c5cfcc38",
   "metadata": {},
   "outputs": [
    {
     "data": {
      "text/plain": [
       "'HELLO'"
      ]
     },
     "execution_count": 11,
     "metadata": {},
     "output_type": "execute_result"
    }
   ],
   "source": [
    "# \n",
    "name = 'hello'\n",
    "name.upper()"
   ]
  },
  {
   "cell_type": "code",
   "execution_count": 16,
   "id": "c19c4ebe-201d-4118-a828-9f07597d7a26",
   "metadata": {},
   "outputs": [
    {
     "ename": "IndentationError",
     "evalue": "unexpected indent (367398525.py, line 2)",
     "output_type": "error",
     "traceback": [
      "  \u001b[36mCell\u001b[39m\u001b[36m \u001b[39m\u001b[32mIn[16]\u001b[39m\u001b[32m, line 2\u001b[39m\n\u001b[31m    \u001b[39m\u001b[31mfruits =  \"i like apples\"\u001b[39m\n    ^\n\u001b[31mIndentationError\u001b[39m\u001b[31m:\u001b[39m unexpected indent\n"
     ]
    }
   ],
   "source": [
    "# \n",
    "  fruits =  \"i like apples\"\n",
    "    new_fruit = fruits.replace('apple', 'orange')\n",
    "    print(new_fruit)\n"
   ]
  },
  {
   "cell_type": "code",
   "execution_count": 17,
   "id": "ea4d3afa-4d26-4f2c-a59b-301d8d92a45b",
   "metadata": {},
   "outputs": [
    {
     "name": "stdout",
     "output_type": "stream",
     "text": [
      "[1, 2, 3, 4, 5]\n"
     ]
    }
   ],
   "source": [
    "# \n",
    "my_list = [1, 2, 3, 4, 5]\n",
    "print(my_list)"
   ]
  },
  {
   "cell_type": "code",
   "execution_count": 18,
   "id": "7ff9d64b-fef9-4158-88c0-c5cdabae0776",
   "metadata": {},
   "outputs": [
    {
     "name": "stdout",
     "output_type": "stream",
     "text": [
      "[1, 2, 3, 4, 5, 10]\n"
     ]
    }
   ],
   "source": [
    "# \n",
    "my_list = [1, 2, 3, 4, 5]\n",
    "my_list.append(10)\n",
    "print(my_list)"
   ]
  },
  {
   "cell_type": "code",
   "execution_count": 19,
   "id": "fdfc471a-2f6e-4a12-bb4a-47be1f621526",
   "metadata": {},
   "outputs": [
    {
     "name": "stdout",
     "output_type": "stream",
     "text": [
      "[1, 2]\n"
     ]
    }
   ],
   "source": [
    "# \n",
    "a = [1, 2, 3, 4, 5]\n",
    "k = 3\n",
    "del a[-k:]\n",
    "print(a)"
   ]
  },
  {
   "cell_type": "code",
   "execution_count": 20,
   "id": "e0ed9ac5-799f-497f-9599-25cb2aee24cd",
   "metadata": {},
   "outputs": [
    {
     "name": "stdout",
     "output_type": "stream",
     "text": [
      "b\n"
     ]
    }
   ],
   "source": [
    "# \n",
    "my_list = ['a', 'b', 'c', 'd']\n",
    "second_element = my_list[1]\n",
    "print(second_element)"
   ]
  },
  {
   "cell_type": "code",
   "execution_count": 21,
   "id": "ab8fc919-9b48-45a7-8e92-2ff00e2c681a",
   "metadata": {},
   "outputs": [
    {
     "name": "stdout",
     "output_type": "stream",
     "text": [
      "[50, 40, 30, 20, 10]\n"
     ]
    }
   ],
   "source": [
    "# \n",
    "list1 = [10, 20, 30, 40, 50]\n",
    "print(list(reversed(list1)))"
   ]
  },
  {
   "cell_type": "code",
   "execution_count": 22,
   "id": "2ab3d65e-0aee-408e-a6c9-bc8636f35fc7",
   "metadata": {},
   "outputs": [
    {
     "name": "stdout",
     "output_type": "stream",
     "text": [
      "(100, 200, 300)\n"
     ]
    }
   ],
   "source": [
    "# # Create a tuple with elements 100, 200, and 300\n",
    "my_tuple = (100, 200, 300)\n",
    "\n",
    "# Print the tuple\n",
    "print(my_tuple)\n"
   ]
  },
  {
   "cell_type": "code",
   "execution_count": 23,
   "id": "edfaf05b-a8f3-4323-b59a-f84130cf7176",
   "metadata": {},
   "outputs": [
    {
     "name": "stdout",
     "output_type": "stream",
     "text": [
      "red\n",
      "green\n",
      "blue\n",
      "yellow\n"
     ]
    }
   ],
   "source": [
    "# \n",
    "t = ('red', 'green', 'blue', 'yellow')\n",
    "\n",
    "# iterates over each element of the tuple 't'\n",
    "# and prints it\n",
    "for color in t:\n",
    "    print(color)"
   ]
  },
  {
   "cell_type": "code",
   "execution_count": 24,
   "id": "9036227f-d0cd-4e1c-aab9-187875da8bc0",
   "metadata": {},
   "outputs": [
    {
     "name": "stdout",
     "output_type": "stream",
     "text": [
      "5\n"
     ]
    }
   ],
   "source": [
    "# \n",
    "my_tuple = (10, 25, 5, 15)\n",
    "min_value = min(my_tuple)\n",
    "print(min_value)"
   ]
  },
  {
   "cell_type": "code",
   "execution_count": 25,
   "id": "c00801fe-e38a-4aeb-816f-96692aad1f12",
   "metadata": {},
   "outputs": [
    {
     "name": "stdout",
     "output_type": "stream",
     "text": [
      "1\n"
     ]
    }
   ],
   "source": [
    "# \n",
    "my_tuple = (\"dog\", \"cat\", \"rabbit\")\n",
    "index = my_tuple.index(\"cat\")\n",
    "print(index)"
   ]
  },
  {
   "cell_type": "code",
   "execution_count": 26,
   "id": "2fe85413-376c-4221-9b06-4419e0a5ccd5",
   "metadata": {},
   "outputs": [
    {
     "name": "stdout",
     "output_type": "stream",
     "text": [
      "Kiwi is not in the fruits tuple.\n"
     ]
    }
   ],
   "source": [
    "# \n",
    "# Create a tuple containing three different fruits\n",
    "fruits = (\"apple\", \"banana\", \"orange\")\n",
    "\n",
    "# Check if \"kiwi\" is in the tuple\n",
    "if \"kiwi\" in fruits:\n",
    "    print(\"Kiwi is in the fruits tuple.\")\n",
    "else:\n",
    "    print(\"Kiwi is not in the fruits tuple.\")"
   ]
  },
  {
   "cell_type": "code",
   "execution_count": 27,
   "id": "23def99a-2d82-4362-b62f-ff7a5e77265c",
   "metadata": {},
   "outputs": [
    {
     "name": "stdout",
     "output_type": "stream",
     "text": [
      "{'b', 'c', 'a'}\n"
     ]
    }
   ],
   "source": [
    "# \n",
    "my_set = {'a', 'b', 'c'}\n",
    "print(my_set)"
   ]
  },
  {
   "cell_type": "code",
   "execution_count": 28,
   "id": "7b50e4a5-f45a-45ed-ac5f-bba8a9e3ee03",
   "metadata": {},
   "outputs": [
    {
     "name": "stdout",
     "output_type": "stream",
     "text": [
      "[]\n"
     ]
    }
   ],
   "source": [
    "# \n",
    "my_list = [1, 2, 3, 4, 5]\n",
    "my_list.clear()\n",
    "print(my_list)  # Output: []"
   ]
  },
  {
   "cell_type": "code",
   "execution_count": 29,
   "id": "8c5b2d5b-fbf6-4722-b3e5-c4afbf22a913",
   "metadata": {},
   "outputs": [
    {
     "name": "stdout",
     "output_type": "stream",
     "text": [
      "{1, 2, 3}\n"
     ]
    }
   ],
   "source": [
    "# \n",
    "my_set = {1, 2, 3, 4}\n",
    "my_set.remove(4)\n",
    "print(my_set)"
   ]
  },
  {
   "cell_type": "code",
   "execution_count": 30,
   "id": "12da7ee7-3193-45ce-a73a-ebe82d87c6ef",
   "metadata": {},
   "outputs": [
    {
     "name": "stdout",
     "output_type": "stream",
     "text": [
      "{1, 2, 3, 4, 5}\n"
     ]
    }
   ],
   "source": [
    "# \n",
    "A = {1, 2, 3} \n",
    "B = {3, 4, 5}\n",
    "\n",
    "print(A.union(B))  # Combining both sets"
   ]
  },
  {
   "cell_type": "code",
   "execution_count": 31,
   "id": "bca8bebc-b485-4a17-b631-ce642fa3a94e",
   "metadata": {},
   "outputs": [
    {
     "name": "stdout",
     "output_type": "stream",
     "text": [
      "{2, 3}\n"
     ]
    }
   ],
   "source": [
    "# \n",
    "A = {1, 2, 3} \n",
    "B = {2, 3, 4}\n",
    "\n",
    "print(A.intersection(B))  "
   ]
  },
  {
   "cell_type": "code",
   "execution_count": 32,
   "id": "ea63481e-9a1b-427d-b842-a9ab805263f9",
   "metadata": {},
   "outputs": [
    {
     "name": "stdout",
     "output_type": "stream",
     "text": [
      "['name', 'age', 'city']\n"
     ]
    }
   ],
   "source": [
    "# \n",
    "d = {'name': 'John', 'age': 25, 'city': 'New York'}\n",
    "\n",
    "a = list(d.keys())\n",
    "\n",
    "print(a)"
   ]
  },
  {
   "cell_type": "code",
   "execution_count": 33,
   "id": "dd030a32-3c29-4dac-8e59-319df83da00c",
   "metadata": {},
   "outputs": [
    {
     "name": "stdout",
     "output_type": "stream",
     "text": [
      "{'name': 'john', 'age': '25', 'country': 'usa'}\n"
     ]
    }
   ],
   "source": [
    "# \n",
    "d = {'name': 'john', 'age': '25'}\n",
    "\n",
    "d.update({'country': 'usa'})\n",
    "print(d)"
   ]
  },
  {
   "cell_type": "code",
   "execution_count": 34,
   "id": "97f9bc49-0cd8-4264-8a11-ba2feea07b86",
   "metadata": {},
   "outputs": [
    {
     "name": "stdout",
     "output_type": "stream",
     "text": [
      "{'name': 'bob', 'city': 'New York'}\n",
      "22\n"
     ]
    }
   ],
   "source": [
    "# \n",
    "a = {\"name\": \"bob\", \"age\": 22, \"city\": \"New York\"}\n",
    "\n",
    "# Remove the key 'age'\n",
    "rv = a.pop(\"age\")\n",
    "\n",
    "print(a)  \n",
    "print(rv)"
   ]
  },
  {
   "cell_type": "code",
   "execution_count": 35,
   "id": "21f539cb-400c-4491-a5a4-89cf8ec818c4",
   "metadata": {},
   "outputs": [
    {
     "name": "stdout",
     "output_type": "stream",
     "text": [
      "False\n",
      "False\n"
     ]
    }
   ],
   "source": [
    "# \n",
    "# Example dictionary\n",
    "d = {'name': 'alice', 'age': 30}\n",
    "\n",
    "# Key to check\n",
    "key = 'b'\n",
    "print(key in d)  # Output: True\n",
    "\n",
    "key = 'g'\n",
    "print(key in d)  # Output: False"
   ]
  },
  {
   "cell_type": "code",
   "execution_count": 36,
   "id": "5636b7fd-278a-4de3-8ac9-46ad52c2e522",
   "metadata": {},
   "outputs": [
    {
     "name": "stdout",
     "output_type": "stream",
     "text": [
      "List: [1, 2, 3, 'apple', 'banana']\n",
      "Tuple: (4, 5, 6, 'grape', 'orange')\n",
      "Dictionary: {'name': 'Alice', 'age': 30, 'city': 'New York'}\n"
     ]
    }
   ],
   "source": [
    "# \n",
    "# Create a list\n",
    "my_list = [1, 2, 3, \"apple\", \"banana\"]\n",
    "\n",
    "# Create a tuple\n",
    "my_tuple = (4, 5, 6, \"grape\", \"orange\")\n",
    "\n",
    "# Create a dictionary\n",
    "my_dictionary = {\"name\": \"Alice\", \"age\": 30, \"city\": \"New York\"}\n",
    "\n",
    "# Print the list\n",
    "print(\"List:\", my_list)\n",
    "\n",
    "# Print the tuple\n",
    "print(\"Tuple:\", my_tuple)\n",
    "\n",
    "# Print the dictionary\n",
    "print(\"Dictionary:\", my_dictionary)"
   ]
  },
  {
   "cell_type": "code",
   "execution_count": 39,
   "id": "95333ccd-ae0a-488f-aa7b-73416449f146",
   "metadata": {},
   "outputs": [
    {
     "name": "stdout",
     "output_type": "stream",
     "text": [
      "[88, 77, 44, 84, 6]\n"
     ]
    }
   ],
   "source": [
    "# \n",
    "import random\n",
    "\n",
    "# Generate a list of unique random numbers\n",
    "n = 5  # Number of random numbers\n",
    "li = random.sample(range(1, 100), n)\n",
    "\n",
    "print(li)"
   ]
  },
  {
   "cell_type": "code",
   "execution_count": 40,
   "id": "3759fef9-2a37-4805-9300-ad2b5c343585",
   "metadata": {},
   "outputs": [
    {
     "name": "stdout",
     "output_type": "stream",
     "text": [
      "date\n"
     ]
    }
   ],
   "source": [
    "# \n",
    "# Create a list of strings\n",
    "my_list = [\"apple\", \"banana\", \"cherry\", \"date\"]\n",
    "\n",
    "# Print the element at the third index (which is the fourth element in the list)\n",
    "print(my_list[3])  # Output: date\n"
   ]
  },
  {
   "cell_type": "code",
   "execution_count": 41,
   "id": "4b247811-414f-476a-9061-64163c5e28da",
   "metadata": {},
   "outputs": [
    {
     "name": "stdout",
     "output_type": "stream",
     "text": [
      "Merged dictionary (dict1): {'a': 1, 'b': 3, 'c': 4}\n",
      "Merged dictionary (dict1 | dict2): {'a': 1, 'b': 3, 'c': 4}\n",
      "Merged dictionary (**dict1, **dict2): {'a': 1, 'b': 3, 'c': 4}\n",
      "Merged dictionary (dict(dict1, **dict2)): {'a': 1, 'b': 3, 'c': 4}\n"
     ]
    }
   ],
   "source": [
    "# \n",
    "# Sample dictionaries\n",
    "dict1 = {'a': 1, 'b': 2}\n",
    "dict2 = {'b': 3, 'c': 4}\n",
    "\n",
    "# Method 1: Using the update() method (modifies dict1)\n",
    "dict1.update(dict2)\n",
    "print(\"Merged dictionary (dict1):\", dict1)\n",
    "\n",
    "# Method 2: Using the | operator (Python 3.9+)\n",
    "merged_dict = dict1 | dict2\n",
    "print(\"Merged dictionary (dict1 | dict2):\", merged_dict)\n",
    "\n",
    "# Method 3: Using the ** operator\n",
    "merged_dict = {**dict1, **dict2}\n",
    "print(\"Merged dictionary (**dict1, **dict2):\", merged_dict)\n",
    "\n",
    "# Method 4: Using the dict() constructor\n",
    "merged_dict = dict(dict1, **dict2)\n",
    "print(\"Merged dictionary (dict(dict1, **dict2)):\", merged_dict)"
   ]
  },
  {
   "cell_type": "code",
   "execution_count": null,
   "id": "3be614da-234e-4498-8f02-c044de406879",
   "metadata": {},
   "outputs": [],
   "source": [
    "# \n"
   ]
  }
 ],
 "metadata": {
  "kernelspec": {
   "display_name": "Python 3 (ipykernel)",
   "language": "python",
   "name": "python3"
  },
  "language_info": {
   "codemirror_mode": {
    "name": "ipython",
    "version": 3
   },
   "file_extension": ".py",
   "mimetype": "text/x-python",
   "name": "python",
   "nbconvert_exporter": "python",
   "pygments_lexer": "ipython3",
   "version": "3.13.3"
  }
 },
 "nbformat": 4,
 "nbformat_minor": 5
}
